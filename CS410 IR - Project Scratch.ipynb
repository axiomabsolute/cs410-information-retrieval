{
 "cells": [
  {
   "cell_type": "markdown",
   "metadata": {},
   "source": [
    "# Outline of IR System\n",
    "\n",
    "Components\n",
    "1. Interface\n",
    "2. Tokenizer\n",
    "3. Indexer\n",
    "4. Indexes\n",
    "5. Scorer\n",
    "6. Feedback"
   ]
  },
  {
   "cell_type": "code",
   "execution_count": 1,
   "metadata": {
    "collapsed": true
   },
   "outputs": [],
   "source": [
    "from music21 import *"
   ]
  },
  {
   "cell_type": "code",
   "execution_count": 2,
   "metadata": {},
   "outputs": [],
   "source": [
    "# Models\n",
    "from collections import defaultdict, Counter\n",
    "from functools import reduce\n",
    "import random\n",
    "\n",
    "def flatten(l):\n",
    "    return [item for sublist in l for item in sublist]\n",
    "\n",
    "def get_parts_for_piece(piece):\n",
    "    return piece.parts\n",
    "\n",
    "def get_parts(pieces):\n",
    "    for piece in pieces:\n",
    "        try:\n",
    "            scores = [piece.getScoreByNumber(number) for number in piece.getNumbers()]\n",
    "            for score in scores:\n",
    "                for part in score.parts:\n",
    "                    yield (score.metadata.title, part.partName, part)\n",
    "        except:\n",
    "            for part in piece.parts:\n",
    "                yield (piece.metadata.title, part.partName, part)\n",
    "\n",
    "def get_notes(part):\n",
    "    return flatten([m.notes for m in part.measures(0, None) if m.isStream])\n",
    "\n",
    "# When we get snippets, we need to account for chords. To handle this, treat each note value as a set and compute the cartesian\n",
    "# product to produce all possible one-line snippets for the part\n",
    "def get_snippets_for_piece(piece_name, part_name, notes, snippet_length):\n",
    "    return [Snippet(piece_name, part_name, notes[i: i+snippet_length], i) for i in range(0, 1 + len(notes) - snippet_length)]\n",
    "\n",
    "def get_snippets_for_parts(parts):\n",
    "    return flatten(list((get_snippets_for_piece(part[0], part[1], get_notes(part[2]), 5) for part in parts)))\n",
    "\n",
    "def get_snippets_for_pieces(pieces):\n",
    "    parts = list(get_parts(pieces))\n",
    "    return get_snippets_for_parts(parts)\n",
    "\n",
    "class IRSystem:\n",
    "    def __init__(self, index_methods, scorers = None, pieces = []):\n",
    "        self.index_methods = index_methods\n",
    "        parts = list(get_parts(pieces))\n",
    "        self.piece_names = set( (part[0] for part in parts) )\n",
    "        # Break up pieces into a flat list of snippets\n",
    "        snippets = get_snippets_for_parts(parts)\n",
    "        # For each index_method, build an index\n",
    "        self.indexes = { k:Index(snippets, v, k) for k,v in index_methods.items() }\n",
    "        # Store scorers\n",
    "        self.scorers = scorers\n",
    "                        \n",
    "    def add_piece(self, piece):\n",
    "        parts = get_parts(pieces)\n",
    "        snippets = get_snippets_for_parts(parts)\n",
    "        for snippet in snippets:\n",
    "            for index in self.indexes.values():\n",
    "                index.add_snippet(snippet)\n",
    "        try:\n",
    "            self.piece_names.add(piece.metadata.title)\n",
    "        except:\n",
    "            # Piece might not have title\n",
    "            print(\"Piece does not have a title\")\n",
    "    \n",
    "    def lookup(self, query):\n",
    "        snippets_by_index_type = {index_name: index.lookup(query) for index_name,index in self.indexes.items()}\n",
    "        return {scorer_name: scorer(snippets_by_index_type) for scorer_name,scorer in self.scorers.items()}\n",
    "    \n",
    "    def __repr__(self):\n",
    "        return \"IRSystem(%s pieces)\" % (len(self.piece_names))\n",
    "                        \n",
    "\n",
    "class Snippet:\n",
    "    def __init__(self, piece_name, part, notes, offset):\n",
    "        self.piece = piece_name\n",
    "        self.part = part\n",
    "        self.notes = notes\n",
    "        self.offset = offset\n",
    "        \n",
    "    def __repr__(self):\n",
    "        return \"Snippet(%s, %s, %s, %s)\" % (self.piece, self.part, self.offset, [note.pitch.nameWithOctave for note in self.notes])\n",
    "\n",
    "class Index:\n",
    "    def __init__(self, snippets, keyfn, name = \"\"):\n",
    "        self.index = defaultdict(set)\n",
    "        self.keyfn = keyfn\n",
    "        self.name = name\n",
    "        for snippet in snippets:\n",
    "            self.add_snippet(snippet)\n",
    "            \n",
    "    def add_snippet(self, snippet):\n",
    "        for key in self.keyfn(snippet):\n",
    "            self.index[key].add(snippet)\n",
    "            \n",
    "    def lookup(self, query):\n",
    "        return flatten([list(self.index[key]) for key in self.keyfn(query)])\n",
    "    \n",
    "    def merge_indexes(self, index):\n",
    "        result = Index([], self.keyfn, self.name)\n",
    "        for k,v in self.index.items():\n",
    "            for item in v:\n",
    "                result.index[k].add(item)\n",
    "        for k,v in index.index.items():\n",
    "            for item in v:\n",
    "                result.index[k].add(item)\n",
    "        return result\n",
    "    \n",
    "    def __repr__(self):\n",
    "        result = \"Index[%s]\\n\" % self.name\n",
    "        for key, values in self.index.items():\n",
    "            result += \"  %s - %s\\n\" % (key, len(values))\n",
    "        return result\n",
    "        #return \"Index[%s]\\n  %s\" % (self.name, '\\n  '.join(self.index.keys()))\n",
    "    \n",
    "def merge_indexes(indexes):\n",
    "    return reduce(lambda x,y: x.merge_indexes(y), indexes)"
   ]
  },
  {
   "cell_type": "code",
   "execution_count": 3,
   "metadata": {},
   "outputs": [],
   "source": [
    "# Tokenizers\n",
    "def wrap_query_as_piece(query):\n",
    "    piece = stream.Score()\n",
    "    part = stream.Part()\n",
    "    part.partName = \"query\"\n",
    "    measures = converter.parse(\"tinynotation: %s\" % query)\n",
    "    for measure in measures:\n",
    "        part.append(measure)\n",
    "    piece.append(part)\n",
    "    return piece\n"
   ]
  },
  {
   "cell_type": "code",
   "execution_count": 4,
   "metadata": {
    "collapsed": true
   },
   "outputs": [],
   "source": [
    "# Indexers\n",
    "# An indexer is a function from snippet to a list of strings representing the index key\n",
    "def get_pitches(snippet):\n",
    "    return [note.pitch for note in snippet.notes]\n",
    "\n",
    "def index_key_by_pitch(snippet):\n",
    "    return [' '.join([pitch.nameWithOctave for pitch in get_pitches(snippet)])]\n",
    "\n",
    "# Parm looks like [ [index_1_piece_1, index_2_piece_2, ...], [index_1_piece_2, index_2_piece_2, ...]... ]\n",
    "def merge_indexes_for_pieces(indexes_by_piece):\n",
    "    collected_indexes = zip(*indexes_by_piece)\n",
    "    return [ merge_indexes(index_collection) for index_collection in collected_indexes ]\n",
    "\n",
    "def make_indexes(index_methods, snippets_by_part):\n",
    "    print(snippets_by_part)\n",
    "    return [ [ Index(snippets, index_method, name) for name, index_method in index_methods.items() ] for snippets in snippets_by_part ]"
   ]
  },
  {
   "cell_type": "code",
   "execution_count": 5,
   "metadata": {
    "collapsed": true
   },
   "outputs": [],
   "source": [
    "# Scorer\n",
    "# A scorer is a function: Function[Dictionary[index_type, snippets], Dictionary[piece_name, number]\n",
    "\n",
    "# Each time the query matches a snippet from a piece for each index, give it a score of 1, and sum them\n",
    "def simple_sum_scorer(snippets_by_index_type):\n",
    "    snippets = flatten(snippets_by_index_type.values())\n",
    "    return Counter([snippet.piece for snippet in snippets])"
   ]
  },
  {
   "cell_type": "code",
   "execution_count": 29,
   "metadata": {},
   "outputs": [],
   "source": [
    "pieces = list((corpus.parse(piece) for piece in corpus.getComposer('bach')[:10]))\n",
    "\n",
    "index_methods = {\n",
    "    'By Pitch': index_key_by_pitch\n",
    "}\n",
    "\n",
    "scorer_methods = {\n",
    "    'Simple Sum': simple_sum_scorer\n",
    "}"
   ]
  },
  {
   "cell_type": "code",
   "execution_count": 30,
   "metadata": {},
   "outputs": [],
   "source": [
    "irsystem = IRSystem(index_methods, scorer_methods, pieces)"
   ]
  },
  {
   "cell_type": "code",
   "execution_count": 8,
   "metadata": {},
   "outputs": [],
   "source": [
    "# Does not work in iPython\n",
    "# pieces[1].show()"
   ]
  },
  {
   "cell_type": "code",
   "execution_count": 22,
   "metadata": {},
   "outputs": [
    {
     "data": {
      "text/plain": [
       "{'Simple Sum': Counter({'bwv11.6.mxl': 1,\n",
       "          'bwv112.5-sc.mxl': 6,\n",
       "          'bwv112.5.mxl': 2})}"
      ]
     },
     "execution_count": 22,
     "metadata": {},
     "output_type": "execute_result"
    }
   ],
   "source": [
    "all_snippets = get_snippets_for_pieces(pieces)\n",
    "random_snippet = random.choice(all_snippets)\n",
    "irsystem.lookup(random_snippet)"
   ]
  },
  {
   "cell_type": "code",
   "execution_count": 23,
   "metadata": {},
   "outputs": [
    {
     "data": {
      "text/plain": [
       "[(Snippet(bwv110.7.mxl, Tenor, 4, ['E4', 'D4', 'D4', 'E4', 'F#4']),\n",
       "  {'Simple Sum': Counter({'bwv110.7.mxl': 1, 'bwv111.6.mxl': 1})}),\n",
       " (Snippet(bwv117.4.mxl, Alto, 25, ['G4', 'C4', 'D4', 'E4', 'F4']),\n",
       "  {'Simple Sum': Counter({'bwv117.4.mxl': 2})}),\n",
       " (Snippet(bwv123.6.mxl, Tenor, 35, ['A3', 'A3', 'G3', 'F#3', 'A3']),\n",
       "  {'Simple Sum': Counter({'bwv123.6.mxl': 2})}),\n",
       " (Snippet(bwv124.6.mxl, Bass, 18, ['B3', 'E3', 'D#3', 'C#3', 'B2']),\n",
       "  {'Simple Sum': Counter({'bwv124.6.mxl': 1})}),\n",
       " (Snippet(bwv120.8-a.mxl, Bass, 26, ['D3', 'A3', 'A2', 'D3', 'D3']),\n",
       "  {'Simple Sum': Counter({'bwv120.8-a.mxl': 4})}),\n",
       " (Snippet(bwv112.5-sc.mxl, Bass, 37, ['A2', 'B2', 'C3', 'D3', 'E3']),\n",
       "  {'Simple Sum': Counter({'bwv101.7.mxl': 1,\n",
       "            'bwv112.5-sc.mxl': 2,\n",
       "            'bwv112.5.mxl': 2})}),\n",
       " (Snippet(bwv108.6.mxl, Soprano, 44, ['D5', 'C#5', 'D5', 'E5', 'F#5']),\n",
       "  {'Simple Sum': Counter({'bwv108.6.mxl': 3, 'bwv115.6.mxl': 1})}),\n",
       " (Snippet(bwv112.5-sc.mxl, Oboe, 6, ['F#4', 'G4', 'G4', 'F#4', 'G4']),\n",
       "  {'Simple Sum': Counter({'bwv102.7.mxl': 1,\n",
       "            'bwv112.5-sc.mxl': 5,\n",
       "            'bwv112.5.mxl': 2,\n",
       "            'bwv115.6.mxl': 2})}),\n",
       " (Snippet(bwv124.6.mxl, Bass, 6, ['F#3', 'B3', 'A3', 'G#3', 'F#3']),\n",
       "  {'Simple Sum': Counter({'bwv124.6.mxl': 2})}),\n",
       " (Snippet(bwv110.7.mxl, Bass, 18, ['A3', 'G3', 'F#3', 'E3', 'D3']),\n",
       "  {'Simple Sum': Counter({'bwv103.6.mxl': 1,\n",
       "            'bwv108.6.mxl': 1,\n",
       "            'bwv11.6.mxl': 2,\n",
       "            'bwv110.7.mxl': 1,\n",
       "            'bwv113.8.mxl': 4,\n",
       "            'bwv120.8-a.mxl': 1})}),\n",
       " (Snippet(bwv12.7.mxl, Tenor, 17, ['A3', 'B-3', 'B-3', 'D4', 'C4']),\n",
       "  {'Simple Sum': Counter({'bwv12.7.mxl': 1})}),\n",
       " (Snippet(bwv11.6.mxl, Tenor, 37, ['D4', 'C#4', 'A3', 'G3', 'A3']),\n",
       "  {'Simple Sum': Counter({'bwv11.6.mxl': 2})}),\n",
       " (Snippet(bwv120.8-a.mxl, Tenor, 7, ['A3', 'E4', 'D4', 'G3', 'D4']),\n",
       "  {'Simple Sum': Counter({'bwv120.8-a.mxl': 4})}),\n",
       " (Snippet(bwv120.8-a.mxl, Trumpet 3, 24, ['F#5', 'G5', 'F#5', 'D5', 'E5']),\n",
       "  {'Simple Sum': Counter({'bwv120.8-a.mxl': 2})}),\n",
       " (Snippet(bwv117.4.mxl, Tenor, 9, ['B3', 'E4', 'D4', 'D4', 'C4']),\n",
       "  {'Simple Sum': Counter({'bwv115.6.mxl': 2, 'bwv117.4.mxl': 2})}),\n",
       " (Snippet(bwv108.6.mxl, Tenor, 55, ['D4', 'C#4', 'C#4', 'B3', 'A#3']),\n",
       "  {'Simple Sum': Counter({'bwv108.6.mxl': 2})}),\n",
       " (Snippet(bwv1.6.mxl, Alto, 8, ['A4', 'B-4', 'B-4', 'C5', 'D5']),\n",
       "  {'Simple Sum': Counter({'bwv1.6.mxl': 2})}),\n",
       " (Snippet(bwv115.6.mxl, Bass, 2, ['E3', 'G3', 'F#3', 'E3', 'D3']),\n",
       "  {'Simple Sum': Counter({'bwv115.6.mxl': 2, 'bwv123.6.mxl': 1})}),\n",
       " (Snippet(bwv120.8-a.mxl, Trumpet 1, 47, ['G5', 'A5', 'B5', 'A5', 'B5']),\n",
       "  {'Simple Sum': Counter({'bwv120.8-a.mxl': 1})}),\n",
       " (Snippet(bwv113.8.mxl, Alto, 58, ['E4', 'E4', 'F#4', 'F#4', 'B4']),\n",
       "  {'Simple Sum': Counter({'bwv113.8.mxl': 1})})]"
      ]
     },
     "execution_count": 23,
     "metadata": {},
     "output_type": "execute_result"
    }
   ],
   "source": [
    "random_snippets = random.sample(all_snippets, 20)\n",
    "scores = [irsystem.lookup(s) for s in random_snippets]\n",
    "list(zip(random_snippets, scores))"
   ]
  },
  {
   "cell_type": "code",
   "execution_count": 11,
   "metadata": {},
   "outputs": [
    {
     "data": {
      "text/html": [
       "\n",
       "                <div id='midiPlayerDiv11242'></div>\n",
       "                <link rel=\"stylesheet\" href=\"http://artusi.xyz/music21j/css/m21.css\"\n",
       "                    type=\"text/css\" />\n",
       "                <script>\n",
       "                require.config({\n",
       "                    paths: {'music21': 'http://artusi.xyz/music21j/src/music21'}\n",
       "                });\n",
       "                require(['music21'], function() {\n",
       "                               mp = new music21.miditools.MidiPlayer();\n",
       "                               mp.addPlayer('#midiPlayerDiv11242');\n",
       "                               mp.base64Load('data:audio/midi;base64,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');\n",
       "                        });\n",
       "                </script>"
      ],
      "text/plain": [
       "<IPython.core.display.HTML object>"
      ]
     },
     "metadata": {},
     "output_type": "display_data"
    }
   ],
   "source": [
    "pieces[0].show('midi')"
   ]
  },
  {
   "cell_type": "code",
   "execution_count": 24,
   "metadata": {},
   "outputs": [
    {
     "data": {
      "text/plain": [
       "6989"
      ]
     },
     "execution_count": 24,
     "metadata": {},
     "output_type": "execute_result"
    }
   ],
   "source": [
    "len(all_snippets)"
   ]
  },
  {
   "cell_type": "code",
   "execution_count": null,
   "metadata": {
    "collapsed": true
   },
   "outputs": [],
   "source": []
  }
 ],
 "metadata": {
  "kernelspec": {
   "display_name": "Python 3",
   "language": "python",
   "name": "python3"
  },
  "language_info": {
   "codemirror_mode": {
    "name": "ipython",
    "version": 3
   },
   "file_extension": ".py",
   "mimetype": "text/x-python",
   "name": "python",
   "nbconvert_exporter": "python",
   "pygments_lexer": "ipython3",
   "version": "3.6.2"
  }
 },
 "nbformat": 4,
 "nbformat_minor": 2
}
